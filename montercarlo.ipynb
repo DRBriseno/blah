{
 "cells": [
  {
   "cell_type": "code",
   "execution_count": 1,
   "id": "4ff74bf7",
   "metadata": {},
   "outputs": [],
   "source": [
    "import pandas as pd\n",
    "import numpy as np\n",
    "import seaborn as sns\n",
    "\n",
    "sns.set_style('whitegrid')"
   ]
  },
  {
   "cell_type": "code",
   "execution_count": 2,
   "id": "e55765c4",
   "metadata": {},
   "outputs": [],
   "source": [
    "avg = 1\n",
    "std_dev = .1\n",
    "num_reps = 500\n",
    "num_simulations = 1000"
   ]
  },
  {
   "cell_type": "code",
   "execution_count": 3,
   "id": "7ef6f1c0",
   "metadata": {},
   "outputs": [],
   "source": [
    "pct_to_target = np.random.normal(avg, std_dev, num_reps).round(2)"
   ]
  },
  {
   "cell_type": "code",
   "execution_count": 4,
   "id": "b2e0338b",
   "metadata": {},
   "outputs": [],
   "source": [
    "sales_target_values = [75_000, 100_000, 200_000, 300_000, 400_000, 500_000]\n",
    "sales_target_prob = [.3, .3, .2, .1, .05, .05]\n",
    "sales_target = np.random.choice(sales_target_values, num_reps, p=sales_target_prob)"
   ]
  },
  {
   "cell_type": "code",
   "execution_count": 5,
   "id": "b29a19c0",
   "metadata": {},
   "outputs": [],
   "source": [
    "df = pd.DataFrame(index=range(num_reps), data={'Pct_To_Target': pct_to_target,\n",
    "                                               'Sales_Target': sales_target})\n",
    "\n",
    "df['Sales'] = df['Pct_To_Target'] * df['Sales_Target']"
   ]
  },
  {
   "cell_type": "code",
   "execution_count": 7,
   "id": "6948631b",
   "metadata": {},
   "outputs": [],
   "source": [
    "def calc_commission_rate(x):\n",
    "    \"\"\" Return the commission rate based on the table:\n",
    "    0-90% = 2%\n",
    "    91-99% = 3%\n",
    "    >= 100 = 4%\n",
    "    \"\"\"\n",
    "    if x <= .90:\n",
    "        return .02\n",
    "    if x <= .99:\n",
    "        return .03\n",
    "    else:\n",
    "        return .04\n",
    "    "
   ]
  },
  {
   "cell_type": "code",
   "execution_count": 8,
   "id": "2b07faf8",
   "metadata": {},
   "outputs": [],
   "source": [
    "df['Commission_Rate'] = df['Pct_To_Target'].apply(calc_commission_rate)\n",
    "df['Commission_Amount'] = df['Commission_Rate'] * df['Sales']"
   ]
  },
  {
   "cell_type": "code",
   "execution_count": 9,
   "id": "a8589874",
   "metadata": {},
   "outputs": [],
   "source": [
    "# Define a list to keep all the results from each simulation that we want to analyze\n",
    "all_stats = []\n",
    "\n",
    "# Loop through many simulations\n",
    "for i in range(num_simulations):\n",
    "\n",
    "    # Choose random inputs for the sales targets and percent to target\n",
    "    sales_target = np.random.choice(sales_target_values, num_reps, p=sales_target_prob)\n",
    "    pct_to_target = np.random.normal(avg, std_dev, num_reps).round(2)\n",
    "\n",
    "    # Build the dataframe based on the inputs and number of reps\n",
    "    df = pd.DataFrame(index=range(num_reps), data={'Pct_To_Target': pct_to_target,\n",
    "                                                   'Sales_Target': sales_target})\n",
    "\n",
    "    # Back into the sales number using the percent to target rate\n",
    "    df['Sales'] = df['Pct_To_Target'] * df['Sales_Target']\n",
    "\n",
    "    # Determine the commissions rate and calculate it\n",
    "    df['Commission_Rate'] = df['Pct_To_Target'].apply(calc_commission_rate)\n",
    "    df['Commission_Amount'] = df['Commission_Rate'] * df['Sales']\n",
    "\n",
    "    # We want to track sales,commission amounts and sales targets over all the simulations\n",
    "    all_stats.append([df['Sales'].sum().round(0),\n",
    "                      df['Commission_Amount'].sum().round(0),\n",
    "                      df['Sales_Target'].sum().round(0)])"
   ]
  },
  {
   "cell_type": "code",
   "execution_count": 10,
   "id": "2ab9ec27",
   "metadata": {},
   "outputs": [],
   "source": [
    "results_df = pd.DataFrame.from_records(all_stats, columns=['Sales',\n",
    "                                                           'Commission_Amount',\n",
    "                                                           'Sales_Target'])"
   ]
  },
  {
   "cell_type": "code",
   "execution_count": 11,
   "id": "108890f8",
   "metadata": {},
   "outputs": [
    {
     "data": {
      "text/html": [
       "<style  type=\"text/css\" >\n",
       "</style><table id=\"T_20649_\" ><thead>    <tr>        <th class=\"blank level0\" ></th>        <th class=\"col_heading level0 col0\" >Sales</th>        <th class=\"col_heading level0 col1\" >Commission_Amount</th>        <th class=\"col_heading level0 col2\" >Sales_Target</th>    </tr></thead><tbody>\n",
       "                <tr>\n",
       "                        <th id=\"T_20649_level0_row0\" class=\"row_heading level0 row0\" >count</th>\n",
       "                        <td id=\"T_20649_row0_col0\" class=\"data row0 col0\" >1,000.0</td>\n",
       "                        <td id=\"T_20649_row0_col1\" class=\"data row0 col1\" >1,000.0</td>\n",
       "                        <td id=\"T_20649_row0_col2\" class=\"data row0 col2\" >1,000.0</td>\n",
       "            </tr>\n",
       "            <tr>\n",
       "                        <th id=\"T_20649_level0_row1\" class=\"row_heading level0 row1\" >mean</th>\n",
       "                        <td id=\"T_20649_row1_col0\" class=\"data row1 col0\" >83,784,443.75</td>\n",
       "                        <td id=\"T_20649_row1_col1\" class=\"data row1 col1\" >2,861,321.027</td>\n",
       "                        <td id=\"T_20649_row1_col2\" class=\"data row1 col2\" >83,774,300.0</td>\n",
       "            </tr>\n",
       "            <tr>\n",
       "                        <th id=\"T_20649_level0_row2\" class=\"row_heading level0 row2\" >std</th>\n",
       "                        <td id=\"T_20649_row2_col0\" class=\"data row2 col0\" >2,695,051.2489343802</td>\n",
       "                        <td id=\"T_20649_row2_col1\" class=\"data row2 col1\" >101,913.87705899261</td>\n",
       "                        <td id=\"T_20649_row2_col2\" class=\"data row2 col2\" >2,662,954.5784874153</td>\n",
       "            </tr>\n",
       "            <tr>\n",
       "                        <th id=\"T_20649_level0_row3\" class=\"row_heading level0 row3\" >min</th>\n",
       "                        <td id=\"T_20649_row3_col0\" class=\"data row3 col0\" >76,211,500.0</td>\n",
       "                        <td id=\"T_20649_row3_col1\" class=\"data row3 col1\" >2,570,035.0</td>\n",
       "                        <td id=\"T_20649_row3_col2\" class=\"data row3 col2\" >75,925,000.0</td>\n",
       "            </tr>\n",
       "            <tr>\n",
       "                        <th id=\"T_20649_level0_row4\" class=\"row_heading level0 row4\" >25%</th>\n",
       "                        <td id=\"T_20649_row4_col0\" class=\"data row4 col0\" >81,987,500.0</td>\n",
       "                        <td id=\"T_20649_row4_col1\" class=\"data row4 col1\" >2,790,067.5</td>\n",
       "                        <td id=\"T_20649_row4_col2\" class=\"data row4 col2\" >81,950,000.0</td>\n",
       "            </tr>\n",
       "            <tr>\n",
       "                        <th id=\"T_20649_level0_row5\" class=\"row_heading level0 row5\" >50%</th>\n",
       "                        <td id=\"T_20649_row5_col0\" class=\"data row5 col0\" >83,752,625.0</td>\n",
       "                        <td id=\"T_20649_row5_col1\" class=\"data row5 col1\" >2,860,431.5</td>\n",
       "                        <td id=\"T_20649_row5_col2\" class=\"data row5 col2\" >83,700,000.0</td>\n",
       "            </tr>\n",
       "            <tr>\n",
       "                        <th id=\"T_20649_level0_row6\" class=\"row_heading level0 row6\" >75%</th>\n",
       "                        <td id=\"T_20649_row6_col0\" class=\"data row6 col0\" >85,509,875.0</td>\n",
       "                        <td id=\"T_20649_row6_col1\" class=\"data row6 col1\" >2,928,036.25</td>\n",
       "                        <td id=\"T_20649_row6_col2\" class=\"data row6 col2\" >85,475,000.0</td>\n",
       "            </tr>\n",
       "            <tr>\n",
       "                        <th id=\"T_20649_level0_row7\" class=\"row_heading level0 row7\" >max</th>\n",
       "                        <td id=\"T_20649_row7_col0\" class=\"data row7 col0\" >92,679,250.0</td>\n",
       "                        <td id=\"T_20649_row7_col1\" class=\"data row7 col1\" >3,208,592.0</td>\n",
       "                        <td id=\"T_20649_row7_col2\" class=\"data row7 col2\" >92,775,000.0</td>\n",
       "            </tr>\n",
       "    </tbody></table>"
      ],
      "text/plain": [
       "<pandas.io.formats.style.Styler at 0x7fe8bbf73af0>"
      ]
     },
     "execution_count": 11,
     "metadata": {},
     "output_type": "execute_result"
    }
   ],
   "source": [
    "results_df.describe().style.format('{:,}')"
   ]
  },
  {
   "cell_type": "code",
   "execution_count": null,
   "id": "7e9b732d",
   "metadata": {},
   "outputs": [],
   "source": []
  }
 ],
 "metadata": {
  "kernelspec": {
   "display_name": "Python 3",
   "language": "python",
   "name": "python3"
  },
  "language_info": {
   "codemirror_mode": {
    "name": "ipython",
    "version": 3
   },
   "file_extension": ".py",
   "mimetype": "text/x-python",
   "name": "python",
   "nbconvert_exporter": "python",
   "pygments_lexer": "ipython3",
   "version": "3.8.8"
  }
 },
 "nbformat": 4,
 "nbformat_minor": 5
}
